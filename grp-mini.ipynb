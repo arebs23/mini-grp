{
 "cells": [
  {
   "cell_type": "markdown",
   "metadata": {},
   "source": [
    "Outline:\n",
    "\n",
    "1. Introduce the data gathering and parsing\n",
    "1. How to create a VIT from the GPT code\n",
    "1. Adding the text goals or adding the image observations\n",
    "1. Handling the position embedding\n",
    "1. Adding goal images\n",
    "1. Adding the input masking\n",
    "1. Switching to regresion instead of classification\n",
    "1. Sanitising the data and standardization.\n",
    "1. Evaluating the model in sim\n",
    "1. Recording videos of the results for evaluation"
   ]
  }
 ],
 "metadata": {
  "language_info": {
   "name": "python"
  }
 },
 "nbformat": 4,
 "nbformat_minor": 2
}
